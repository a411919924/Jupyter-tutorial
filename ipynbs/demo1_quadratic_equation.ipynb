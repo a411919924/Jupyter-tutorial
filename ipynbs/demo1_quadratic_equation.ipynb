{
 "cells": [
  {
   "cell_type": "markdown",
   "metadata": {},
   "source": [
    "# Demo 1: Quadratic Equation"
   ]
  },
  {
   "cell_type": "markdown",
   "metadata": {},
   "source": [
    "# 1. Define a quadratic equation"
   ]
  },
  {
   "cell_type": "markdown",
   "metadata": {
    "solution2": "shown",
    "solution2_first": true
   },
   "source": [
    "A quadratic equation can be written as:\n",
    "\\begin{equation}\\label{eq:quadratic_equation}\n",
    "a \\boldsymbol{x}^2 + b \\boldsymbol{x} + c = 0\n",
    "\\end{equation}\n",
    "where $\\boldsymbol{x}$ is the variable, and a, b, c are the coefficients.\n",
    "\n",
    "\\textbf{Task}: \n",
    "\n",
    "Define a function solve(a, b, c) to find the solution for Equation (1).\n",
    "\n",
    "If there is valid solution, return None.\n",
    "\n",
    "\\textbf{Code Format}:\n",
    "\n",
    "def solve(a, b, c):\n",
    "    \n",
    "    # Write your code here.\n",
    "    \n",
    "    if has_solution:\n",
    "        return x1, x2\n",
    "    else:\n",
    "        return None\n",
    "\n",
    "Noting that sqrt function in Numpy library can implement find the squared root of a variable. \n",
    "\n",
    "import numpy as np; np.sqrt(x)"
   ]
  },
  {
   "cell_type": "markdown",
   "metadata": {
    "solution2": "shown"
   },
   "source": [
    "Solutions for the quadratic equation:\n",
    "\n",
    "\\begin{equation}\\label{eq:}\n",
    "x = \\frac{-b \\pm \\sqrt{b^2-4ac}}{2a}\n",
    "\\end{equation}\n",
    "\n",
    "holds if $b^2-4ac \\geq 0$"
   ]
  },
  {
   "cell_type": "code",
   "execution_count": 1,
   "metadata": {
    "solution2": "shown"
   },
   "outputs": [],
   "source": [
    "import numpy as np\n",
    "\n",
    "def solve(a, b, c):\n",
    "    b2_4ac = b**2 - 4*a*c\n",
    "    has_solution = b2_4ac >= 0 \n",
    "    if has_solution:\n",
    "        x1 = (-b + np.sqrt(b2_4ac))/(2*a)\n",
    "        x2 = (-b - np.sqrt(b2_4ac))/(2*a)\n",
    "        return (x1, x2)\n",
    "    else:\n",
    "        return None"
   ]
  },
  {
   "cell_type": "markdown",
   "metadata": {
    "solution": "shown",
    "solution2": "shown",
    "solution2_first": true,
    "solution_first": true
   },
   "source": [
    "# 2. Plot the quadratic function (using matploblib library)\n",
    "Matploblib is a third-party librar for data visualization in Python. \n",
    "\n",
    "Capable of plotting: Lines, Charts, Curves, Scatter, etc.\n",
    "\n",
    "\\textbf{Task}:\n",
    "Use Matploblib.pyplot to plot the curve for equation:\n",
    "\n",
    "\n",
    "\\begin{equation}\n",
    "f(x) = ax^2 + bx + c\n",
    "\\end{equation}\n",
    "\n",
    "E.g. a = 1, b = -2, c = 1"
   ]
  },
  {
   "cell_type": "code",
   "execution_count": 2,
   "metadata": {
    "solution": "shown",
    "solution2": "shown"
   },
   "outputs": [
    {
     "data": {
      "image/png": "[encoded data removed]",
      "text/plain": [
       "<Figure size 432x288 with 1 Axes>"
      ]
     },
     "metadata": {
      "needs_background": "light"
     },
     "output_type": "display_data"
    }
   ],
   "source": [
    "import matplotlib.pyplot as plt\n",
    "%matplotlib inline\n",
    "\n",
    "fig = plt.figure(1)\n",
    "x = np.arange(-3.0, 5.0, 0.1)\n",
    "a, b, c = 1.0, -2.0, -3.0\n",
    "y = a*x**2 + b*x + c\n",
    "plt.plot(x, y)\n",
    "plt.plot(x, [0 for _ in x])\n",
    "plt.legend(['y=f(x)', 'y=0'])\n",
    "\n",
    "x1, x2 = solve(a, b, c)\n",
    "plt.scatter([x1, x2], [0, 0], color='red', marker='o', s=50)\n",
    "plt.text(x1, 0.5, s='x1={:.2f}'.format(x1), size='large')\n",
    "plt.text(x2, 0.5, s='x2={:.2f}'.format(x2), size='large')\n",
    "\n",
    "plt.grid(True)\n",
    "plt.title('Solution for Quadratic Function')\n",
    "plt.show()"
   ]
  },
  {
   "cell_type": "code",
   "execution_count": null,
   "metadata": {},
   "outputs": [],
   "source": []
  }
 ],
 "metadata": {
  "kernelspec": {
   "display_name": "Python [conda env:py36] *",
   "language": "python",
   "name": "conda-env-py36-py"
  },
  "language_info": {
   "codemirror_mode": {
    "name": "ipython",
    "version": 3
   },
   "file_extension": ".py",
   "mimetype": "text/x-python",
   "name": "python",
   "nbconvert_exporter": "python",
   "pygments_lexer": "ipython3",
   "version": "3.6.10"
  },
  "latex_envs": {
   "LaTeX_envs_menu_present": true,
   "autoclose": false,
   "autocomplete": true,
   "bibliofile": "biblio.bib",
   "cite_by": "apalike",
   "current_citInitial": 1,
   "eqLabelWithNumbers": true,
   "eqNumInitial": 1,
   "hotkeys": {
    "equation": "Ctrl-E",
    "itemize": "Ctrl-I"
   },
   "labels_anchors": false,
   "latex_user_defs": false,
   "report_style_numbering": false,
   "user_envs_cfg": false
  }
 },
 "nbformat": 4,
 "nbformat_minor": 4
}
