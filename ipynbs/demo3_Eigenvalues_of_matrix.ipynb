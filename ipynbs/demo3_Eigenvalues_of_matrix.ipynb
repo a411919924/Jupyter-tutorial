{
 "cells": [
  {
   "cell_type": "markdown",
   "metadata": {},
   "source": [
    "# Finding Eigenvalues of a $2\\times2$ Matrix\n",
    "\n",
    "\n",
    "## 1. Definition of Eigenvalues and Eigenvectors\n",
    "Consider the linear transformation of $n$-dimensional vectors $v$ defined by an $n\\times n$ matrix $A$,\n",
    "\\begin{equation*}\n",
    "Av = w\n",
    "\\end{equation*}\n",
    "\n",
    "or\n",
    "\n",
    "\\begin{equation*}\n",
    "\\left[\\begin{array}{cccc}\n",
    "A_{11} & A_{12} & \\cdots & A_{1 n} \\\\\n",
    "A_{21} & A_{22} & \\cdots & A_{2 n} \\\\\n",
    "\\vdots & \\vdots & \\ddots & \\vdots \\\\\n",
    "A_{n 1} & A_{n 2} & \\cdots & A_{n n}\n",
    "\\end{array}\\right]\\left[\\begin{array}{c}\n",
    "v_{1} \\\\\n",
    "v_{2} \\\\\n",
    "\\vdots \\\\\n",
    "v_{n}\n",
    "\\end{array}\\right]=\\left[\\begin{array}{c}\n",
    "w_{1} \\\\\n",
    "w_{2} \\\\\n",
    "\\vdots \\\\\n",
    "w_{n}\n",
    "\\end{array}\\right]\n",
    "\\end{equation*}\n",
    "\n",
    "\n",
    "$\\lambda$ is the \\textbf{eigenvalues}, and $v$ is the \\textbf{eigenvectors} of the matrix $A$, if\n",
    "\\begin{equation*}\n",
    "Av = w = \\lambda v\n",
    "\\end{equation*}\n",
    "\n",
    "E.g. for a $2\\times2$ matrix $A$,\n",
    "$$ A =\n",
    "\\begin{bmatrix}\n",
    "0 & 1 \\\\ \n",
    "-2 & -3\n",
    "\\end{bmatrix}\n",
    "$$\n",
    "\n",
    "The two sets of \\textbf{eigenvalues} and \\textbf{eigenvectors} of the matrix are:\n",
    "$$ \\lambda_1 = -1, \\lambda_2 = -2,\n",
    "v_1 = \n",
    "\\begin{bmatrix}\n",
    " 1 \\\\ -1\n",
    "\\end{bmatrix},\n",
    "v_2 = \n",
    "\\begin{bmatrix}\n",
    " 1 \\\\ -2\n",
    "\\end{bmatrix},\n",
    "$$"
   ]
  },
  {
   "cell_type": "markdown",
   "metadata": {},
   "source": [
    "## 2. Solution for finding the eigenvalues\n",
    "\n",
    "Rewritten the function above,\n",
    "\n",
    "\\begin{equation*}\n",
    "Av - \\lambda v = (A-\\lambda I)v = 0 \\\\\n",
    "|A-\\lambda  I| = 0\n",
    "\\end{equation*}\n",
    "\n",
    "E.g. for the given matrix $A$\n",
    "\n",
    "$$ |A-\\lambda I| =\n",
    "|\\begin{bmatrix}\n",
    "0 & 1 \\\\ -2 & -3\n",
    "\\end{bmatrix}\n",
    "-\\lambda \n",
    "\\begin{bmatrix}\n",
    "1 & 0 \\\\ 0 & 1\n",
    "\\end{bmatrix}|\n",
    "= \n",
    "|\\begin{bmatrix}\n",
    "-\\lambda & 1 \\\\ -2 & -3-\\lambda\n",
    "\\end{bmatrix}|\n",
    "=\\lambda^2 + 3\\lambda + 2 = 0\n",
    "$$\n",
    "\n",
    "According to the function above, we then get $\\lambda_1=-1$ and $\\lambda_2=-2$."
   ]
  },
  {
   "cell_type": "markdown",
   "metadata": {},
   "source": [
    "## 3. Solution for finding the eigenvectors\n",
    "\n",
    "$$\n",
    "(A-\\lambda I)v = \n",
    "\\begin{bmatrix}\n",
    "-\\lambda & 1 \\\\ -2 & -3-\\lambda\n",
    "\\end{bmatrix}\n",
    "\\begin{bmatrix}\n",
    "v_1 \\\\v_2\n",
    "\\end{bmatrix}\n",
    "=0\n",
    "$$\n",
    "\n",
    "For the first eigenvalue $\\lambda_1=-1$, we have\n",
    "$$\n",
    "\\begin{bmatrix}\n",
    "1 & 1 \\\\ -2 & -2 \n",
    "\\end{bmatrix}\n",
    "\\begin{bmatrix}\n",
    "v_{1,1} \\\\ v_{1, 2}\n",
    "\\end{bmatrix}\n",
    "=\n",
    "\\begin{bmatrix}\n",
    "v_{1,1} + v_{1, 2} \\\\ -2v_{1,1} - 2v_{1,2}\n",
    "\\end{bmatrix}\n",
    "=\n",
    "\\begin{bmatrix}\n",
    "0 \\\\ 0\n",
    "\\end{bmatrix}\n",
    "$$\n",
    "\n",
    "Hence, the first eigenvector $v_1$ can be $[1 -1]^T$.\n",
    "\n",
    "\n",
    "Likewise, we can calculate the second eigenvector $v_2$ = $[1 -2]^T$ for the second eigenvalue $\\lambda_2=-2$."
   ]
  },
  {
   "cell_type": "markdown",
   "metadata": {
    "solution2": "shown",
    "solution2_first": true
   },
   "source": [
    "### Exercise: Calculate the eigenvalues and eigenvectors using Numpy\n",
    "\n",
    "\\textbf{Task}:\n",
    "\\begin{enumerate}\n",
    "\\item Define the matrix A and convert it to a numpy array\n",
    "\\item Find the eigenvalues and eigenvectors via the function, (values, vectors) = np.linalg.eig(matrix)\n",
    "\\item Print the eigenvalues and eigenvectors one by one. (Format)\n",
    "\\item Plot the Arrows for the two eigenvectors using Matploblib.pyplot lib\n",
    "\\end{enumerate}\n",
    "\n",
    "\n",
    "*Tips: \n",
    "np.linalg.eig() can automatically calculate the results for you. \n",
    "\n",
    "Print format: \n",
    "\n",
    "'Eigenvalue: -1, EigenVector: [1.00, -1.00]'\n",
    "\n",
    "'Eigenvalue: -2, EigenVector: [1.00, -2.00]'\n",
    "\n",
    "Keep 2 decimal space\n",
    "\n",
    "Plotting Arrow:\n",
    "import matplotlib.pyplot as plt\n",
    "plt.arrow(start_x, start_y, offset_x, offset_y, head_width, head_length, color)"
   ]
  },
  {
   "cell_type": "code",
   "execution_count": 1,
   "metadata": {
    "solution2": "shown"
   },
   "outputs": [
    {
     "name": "stdout",
     "output_type": "stream",
     "text": [
      "Eigenvalue:-1.00, EigenVector:[0.71, -0.71]\n",
      "Eigenvalue:-2.00, EigenVector:[-0.45, 0.89]\n"
     ]
    }
   ],
   "source": [
    "import numpy as np\n",
    "\n",
    "A = np.array([[0, 1],[-2, -3]])\n",
    "e_val, e_vec = np.linalg.eig(A)\n",
    "\n",
    "for i in range(len(A)):\n",
    "    print('Eigenvalue:{:.2f}, EigenVector:[{:.2f}, {:.2f}]'.format(e_val[i], e_vec[0, i], e_vec[1, i]))"
   ]
  },
  {
   "cell_type": "code",
   "execution_count": 2,
   "metadata": {
    "solution2": "shown"
   },
   "outputs": [
    {
     "data": {
      "text/plain": [
       "<matplotlib.legend.Legend at 0x12123bb38>"
      ]
     },
     "execution_count": 2,
     "metadata": {},
     "output_type": "execute_result"
    },
    {
     "data": {
      "image/png": "[encoded data removed]",
      "text/plain": [
       "<Figure size 432x288 with 1 Axes>"
      ]
     },
     "metadata": {
      "needs_background": "light"
     },
     "output_type": "display_data"
    }
   ],
   "source": [
    "import matplotlib.pyplot as plt\n",
    "\n",
    "plt.axes()\n",
    "plt.xlim([-1, 1])\n",
    "plt.ylim([-1, 1])\n",
    "arrow1 = plt.arrow(0, 0, e_vec[0, 0], e_vec[1, 0], head_width=0.05, head_length=0.1, color='blue')\n",
    "arrow2 = plt.arrow(0, 0, e_vec[1, 0], e_vec[1, 1], head_width=0.05, head_length=0.1, color='green')\n",
    "\n",
    "plt.legend([arrow1,arrow2], ['v1', 'v2'])"
   ]
  },
  {
   "cell_type": "code",
   "execution_count": null,
   "metadata": {},
   "outputs": [],
   "source": []
  }
 ],
 "metadata": {
  "kernelspec": {
   "display_name": "Python [conda env:py36] *",
   "language": "python",
   "name": "conda-env-py36-py"
  },
  "language_info": {
   "codemirror_mode": {
    "name": "ipython",
    "version": 3
   },
   "file_extension": ".py",
   "mimetype": "text/x-python",
   "name": "python",
   "nbconvert_exporter": "python",
   "pygments_lexer": "ipython3",
   "version": "3.6.10"
  },
  "latex_envs": {
   "LaTeX_envs_menu_present": true,
   "autoclose": false,
   "autocomplete": true,
   "bibliofile": "biblio.bib",
   "cite_by": "apalike",
   "current_citInitial": 1,
   "eqLabelWithNumbers": true,
   "eqNumInitial": 1,
   "hotkeys": {
    "equation": "Ctrl-E",
    "itemize": "Ctrl-I"
   },
   "labels_anchors": false,
   "latex_user_defs": false,
   "report_style_numbering": false,
   "user_envs_cfg": false
  }
 },
 "nbformat": 4,
 "nbformat_minor": 4
}
